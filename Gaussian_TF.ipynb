{
  "nbformat": 4,
  "nbformat_minor": 0,
  "metadata": {
    "colab": {
      "provenance": []
    },
    "kernelspec": {
      "name": "python3",
      "display_name": "Python 3"
    },
    "language_info": {
      "name": "python"
    }
  },
  "cells": [
    {
      "cell_type": "markdown",
      "source": [
        "MSc: learning a Gaussian with tensorflow"
      ],
      "metadata": {
        "id": "GCW3Kd1LLf12"
      }
    },
    {
      "cell_type": "code",
      "execution_count": null,
      "metadata": {
        "id": "WijH8Q6aLbPR"
      },
      "outputs": [],
      "source": [
        "import tensorflow as tf\n",
        "import numpy as np\n",
        "import scipy.stats\n",
        "import scipy.io\n",
        "import scipy.sparse\n",
        "from scipy.io import loadmat\n",
        "import pandas as pd\n",
        "import tensorflow_probability as tfp\n",
        "tfd = tfp.distributions\n",
        "tfk = tf.keras\n",
        "tfkl = tf.keras.layers\n",
        "from PIL import Image\n",
        "import matplotlib.pyplot as plt"
      ]
    },
    {
      "cell_type": "markdown",
      "source": [
        "We load the iris data set."
      ],
      "metadata": {
        "id": "2mv-19QmMLuP"
      }
    },
    {
      "cell_type": "code",
      "source": [
        "from sklearn.datasets import load_iris\n",
        "data = load_iris()['data']"
      ],
      "metadata": {
        "id": "k5oATPkOL0WZ"
      },
      "execution_count": null,
      "outputs": []
    },
    {
      "cell_type": "code",
      "source": [
        "x = ((data - np.mean(data,0))/np.std(data,0)).astype(np.float32)\n",
        "n = x.shape[0] # number of observations\n",
        "p = x.shape[1] # number of features"
      ],
      "metadata": {
        "id": "3jUaY-jkL81Q"
      },
      "execution_count": null,
      "outputs": []
    },
    {
      "cell_type": "markdown",
      "source": [
        "Learn a Gaussian model $p(x) = \\mathcal{N}(x|\\mu,\\Sigma)$ using Tensorflow!"
      ],
      "metadata": {
        "id": "kfTETUDnMPbe"
      }
    },
    {
      "cell_type": "code",
      "source": [],
      "metadata": {
        "id": "HmFB0Y6uNDSj"
      },
      "execution_count": null,
      "outputs": []
    }
  ]
}