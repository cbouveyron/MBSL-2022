{
  "nbformat": 4,
  "nbformat_minor": 0,
  "metadata": {
    "colab": {
      "provenance": []
    },
    "kernelspec": {
      "name": "python3",
      "display_name": "Python 3"
    }
  },
  "cells": [
    {
      "cell_type": "markdown",
      "metadata": {
        "id": "caWHpc5yrT4O"
      },
      "source": [
        "# MSc Data Science: playing with Tensorflow probability "
      ]
    },
    {
      "cell_type": "markdown",
      "metadata": {
        "id": "XkMV1SjLr_6Y"
      },
      "source": [
        "TF Probability is a library that allows to use probabilisitic/statistical tools within TF. It will be very useful for us, in particular to code VAEs.\n",
        "\n",
        "Here, I'll simply show you the ropes of TF Probability. This tutorial is inspired by [this one](https://github.com/tensorflow/probability/blob/master/tensorflow_probability/examples/jupyter_notebooks/TensorFlow_Distributions_Tutorial.ipynb).\n",
        "\n",
        "Pytorch also has something very similar called [Pytorch distributions](https://pytorch.org/docs/stable/distributions.html)."
      ]
    },
    {
      "cell_type": "markdown",
      "metadata": {
        "id": "xcXViqjgq7ub"
      },
      "source": [
        "# Loading Tensorflow probability"
      ]
    },
    {
      "cell_type": "code",
      "metadata": {
        "id": "ik59_iHBrVmR"
      },
      "source": [
        "try:\n",
        "  # %tensorflow_version only exists in Colab.\n",
        "  %tensorflow_version 2.x\n",
        "except Exception:\n",
        "  pass"
      ],
      "execution_count": null,
      "outputs": []
    },
    {
      "cell_type": "code",
      "metadata": {
        "id": "b_RZvko2q3YO"
      },
      "source": [
        "import tensorflow as tf\n",
        "import tensorflow_probability as tfp\n",
        "import matplotlib.pyplot as plt\n",
        "import numpy as np\n",
        "\n",
        "tfd = tfp.distributions"
      ],
      "execution_count": null,
      "outputs": []
    },
    {
      "cell_type": "markdown",
      "metadata": {
        "id": "xskOxP9zsp3Z"
      },
      "source": [
        "# Univariate distributions"
      ]
    },
    {
      "cell_type": "markdown",
      "metadata": {
        "id": "2zzqleDhsuWg"
      },
      "source": [
        "TFP allows you to define **probability distributions** as Python objects that you can use for example to\n",
        "\n",
        "\n",
        "*   sample\n",
        "*   compute densities\n",
        "\n"
      ]
    },
    {
      "cell_type": "markdown",
      "metadata": {
        "id": "SSYf5_EttaCi"
      },
      "source": [
        "Let us start simple, with a univariate Gaussian."
      ]
    },
    {
      "cell_type": "code",
      "metadata": {
        "id": "hx64chSkrQZU"
      },
      "source": [
        "Gaussian = tfd.Normal(loc=0., scale=1.)"
      ],
      "execution_count": null,
      "outputs": []
    },
    {
      "cell_type": "code",
      "metadata": {
        "id": "vcSnNQPgte6k",
        "colab": {
          "base_uri": "https://localhost:8080/",
          "height": 34
        },
        "outputId": "66a237b6-98c7-4440-b63c-761eeaae409b"
      },
      "source": [
        "Gaussian.sample(1) # returns 1 sample"
      ],
      "execution_count": null,
      "outputs": [
        {
          "output_type": "execute_result",
          "data": {
            "text/plain": [
              "<tf.Tensor: id=22, shape=(1,), dtype=float32, numpy=array([-0.7388823], dtype=float32)>"
            ]
          },
          "metadata": {
            "tags": []
          },
          "execution_count": 4
        }
      ]
    },
    {
      "cell_type": "code",
      "metadata": {
        "colab": {
          "base_uri": "https://localhost:8080/"
        },
        "id": "xK8mP9QQZaUa",
        "outputId": "e5b79018-3b09-4802-f21f-20ca2c896368"
      },
      "source": [
        "Gaussian.sample(1).numpy() # returns 1 sample in numpy"
      ],
      "execution_count": null,
      "outputs": [
        {
          "output_type": "execute_result",
          "data": {
            "text/plain": [
              "array([-1.8755122], dtype=float32)"
            ]
          },
          "metadata": {},
          "execution_count": 4
        }
      ]
    },
    {
      "cell_type": "code",
      "metadata": {
        "id": "3B7z7rfbtlvr",
        "colab": {
          "base_uri": "https://localhost:8080/"
        },
        "outputId": "b3536277-a9d3-43dd-c25f-605fa03d7f15"
      },
      "source": [
        "Gaussian.sample(10) # returns 10 samples"
      ],
      "execution_count": null,
      "outputs": [
        {
          "output_type": "execute_result",
          "data": {
            "text/plain": [
              "<tf.Tensor: shape=(10,), dtype=float32, numpy=\n",
              "array([ 1.2377741 ,  0.66986597,  0.590917  , -2.1612613 ,  0.54833895,\n",
              "        0.14024182,  0.08365849, -0.18422213,  0.18281606,  0.3821498 ],\n",
              "      dtype=float32)>"
            ]
          },
          "metadata": {},
          "execution_count": 5
        }
      ]
    },
    {
      "cell_type": "code",
      "metadata": {
        "id": "jLD2qQcpnTDt",
        "colab": {
          "base_uri": "https://localhost:8080/"
        },
        "outputId": "17d9785a-9f01-4140-d9c5-d00526c095a1"
      },
      "source": [
        "Gaussian.mean().numpy()"
      ],
      "execution_count": null,
      "outputs": [
        {
          "output_type": "execute_result",
          "data": {
            "text/plain": [
              "0.0"
            ]
          },
          "metadata": {},
          "execution_count": 6
        }
      ]
    },
    {
      "cell_type": "code",
      "metadata": {
        "id": "4MTGKRRot5Ns",
        "colab": {
          "base_uri": "https://localhost:8080/"
        },
        "outputId": "87da9aac-bb60-4524-e452-9a73b8cd415a"
      },
      "source": [
        "x = 3\n",
        "\n",
        "Gaussian.prob(x) # compute the density of x"
      ],
      "execution_count": null,
      "outputs": [
        {
          "output_type": "execute_result",
          "data": {
            "text/plain": [
              "<tf.Tensor: shape=(), dtype=float32, numpy=0.004431848>"
            ]
          },
          "metadata": {},
          "execution_count": 7
        }
      ]
    },
    {
      "cell_type": "code",
      "metadata": {
        "id": "M9CqFVRPvorF",
        "colab": {
          "base_uri": "https://localhost:8080/"
        },
        "outputId": "3f090092-472c-4753-b8f6-396ea5655dae"
      },
      "source": [
        "x = 3\n",
        "\n",
        "Gaussian.log_prob(x) # compute the log  of density of x (useful to compute log-likelihoods!)"
      ],
      "execution_count": null,
      "outputs": [
        {
          "output_type": "execute_result",
          "data": {
            "text/plain": [
              "<tf.Tensor: shape=(), dtype=float32, numpy=-5.4189386>"
            ]
          },
          "metadata": {},
          "execution_count": 8
        }
      ]
    },
    {
      "cell_type": "code",
      "metadata": {
        "id": "xH92P9DIuZsY",
        "colab": {
          "base_uri": "https://localhost:8080/",
          "height": 281
        },
        "outputId": "48e4fb4e-622a-40c6-a8a4-532e34c213b4"
      },
      "source": [
        "points = np.linspace(-4,4,100)\n",
        "\n",
        "plt.plot(points, Gaussian.prob(points))\n",
        "plt.title(\"Gaussian density\")\n",
        "plt.show()"
      ],
      "execution_count": null,
      "outputs": [
        {
          "output_type": "display_data",
          "data": {
            "image/png": "[encoded data removed]",
            "text/plain": [
              "<Figure size 432x288 with 1 Axes>"
            ]
          },
          "metadata": {
            "needs_background": "light"
          }
        }
      ]
    },
    {
      "cell_type": "code",
      "metadata": {
        "id": "DrTlU9Uoy2su",
        "colab": {
          "base_uri": "https://localhost:8080/",
          "height": 281
        },
        "outputId": "4d9db675-ee0b-4116-ee19-40becd735361"
      },
      "source": [
        "points = np.linspace(-4,4,100)\n",
        "\n",
        "plt.plot(points, Gaussian.log_prob(points))\n",
        "plt.title(\"log of Gaussian density\")\n",
        "plt.show()"
      ],
      "execution_count": null,
      "outputs": [
        {
          "output_type": "display_data",
          "data": {
            "image/png": "[encoded data removed]",
            "text/plain": [
              "<Figure size 432x288 with 1 Axes>"
            ]
          },
          "metadata": {
            "needs_background": "light"
          }
        }
      ]
    },
    {
      "cell_type": "markdown",
      "metadata": {
        "id": "vkILTQ_-tyY2"
      },
      "source": [
        "Many more classical distributions are implemented, like the Student's t:"
      ]
    },
    {
      "cell_type": "code",
      "metadata": {
        "id": "dPLcwZvztpMT"
      },
      "source": [
        "Student = tfd.StudentT(loc=0., scale=1.,df=2)"
      ],
      "execution_count": null,
      "outputs": []
    },
    {
      "cell_type": "code",
      "metadata": {
        "id": "Xr6ybsK_u4bL",
        "colab": {
          "base_uri": "https://localhost:8080/",
          "height": 281
        },
        "outputId": "1f37f4dd-e16d-4598-cbab-783d6248b06e"
      },
      "source": [
        "points = np.linspace(-4,4,100)\n",
        "\n",
        "plt.plot(points, Student.prob(points))\n",
        "plt.title(\"Student's t density with 2 degrees of freedom\")\n",
        "plt.show()"
      ],
      "execution_count": null,
      "outputs": [
        {
          "output_type": "display_data",
          "data": {
            "image/png": "[encoded data removed]",
            "text/plain": [
              "<Figure size 432x288 with 1 Axes>"
            ]
          },
          "metadata": {
            "needs_background": "light"
          }
        }
      ]
    },
    {
      "cell_type": "code",
      "metadata": {
        "id": "5pZ98t9My6Yo",
        "colab": {
          "base_uri": "https://localhost:8080/",
          "height": 281
        },
        "outputId": "0c715e79-a699-498d-da57-7f12f4509e1f"
      },
      "source": [
        "points = np.linspace(-4,4,100)\n",
        "\n",
        "plt.plot(points, Student.log_prob(points))\n",
        "plt.title(\"Student's t log density with 2 degrees of freedom\")\n",
        "plt.show()"
      ],
      "execution_count": null,
      "outputs": [
        {
          "output_type": "display_data",
          "data": {
            "image/png": "[encoded data removed]",
            "text/plain": [
              "<Figure size 432x288 with 1 Axes>"
            ]
          },
          "metadata": {
            "needs_background": "light"
          }
        }
      ]
    },
    {
      "cell_type": "markdown",
      "metadata": {
        "id": "2AV38aWCvQzU"
      },
      "source": [
        "We can also use discrete distributions, like the Bernoullil:"
      ]
    },
    {
      "cell_type": "code",
      "metadata": {
        "id": "lwc6oxbGvJuL"
      },
      "source": [
        "Bern = tfd.Bernoulli(probs = 0.2)"
      ],
      "execution_count": null,
      "outputs": []
    },
    {
      "cell_type": "code",
      "metadata": {
        "id": "_tSoNvczvZ97",
        "colab": {
          "base_uri": "https://localhost:8080/"
        },
        "outputId": "f99eb298-bcaa-4550-ff63-df63e5fe54cc"
      },
      "source": [
        "Bern.sample(10)"
      ],
      "execution_count": null,
      "outputs": [
        {
          "output_type": "execute_result",
          "data": {
            "text/plain": [
              "<tf.Tensor: shape=(10,), dtype=int32, numpy=array([0, 0, 0, 0, 1, 0, 0, 0, 0, 0], dtype=int32)>"
            ]
          },
          "metadata": {},
          "execution_count": 15
        }
      ]
    },
    {
      "cell_type": "markdown",
      "metadata": {
        "id": "KPOATcOwzTRz"
      },
      "source": [
        "# Creating several univariate distributions"
      ]
    },
    {
      "cell_type": "markdown",
      "metadata": {
        "id": "Jdshn_nuCHOe"
      },
      "source": [
        "Often, in machine learning, we have to deal with a lot of similar distributions. For example, if we want to learn a regression model, we want to define $n$ conditional distributions $p(y|\\mathbf{x}_1),...,p(y|\\mathbf{x}_n)$ with a similar structure.\n",
        "\n",
        "Feeding a bunch of parameters to the function that creates a distribution allows you to create a bunch of distributions at the same time."
      ]
    },
    {
      "cell_type": "code",
      "metadata": {
        "id": "apTjdlyvzYtI",
        "colab": {
          "base_uri": "https://localhost:8080/",
          "height": 34
        },
        "outputId": "494ba6c8-8d7a-48c3-b254-62d7ed6b99ad"
      },
      "source": [
        "multiple_Bernoullis = tfd.Bernoulli(probs=[.3, .5, .7])\n",
        "multiple_Bernoullis"
      ],
      "execution_count": null,
      "outputs": [
        {
          "output_type": "execute_result",
          "data": {
            "text/plain": [
              "<tfp.distributions.Bernoulli 'Bernoulli/' batch_shape=[3] event_shape=[] dtype=int32>"
            ]
          },
          "metadata": {
            "tags": []
          },
          "execution_count": 32
        }
      ]
    },
    {
      "cell_type": "code",
      "metadata": {
        "id": "bhzqCxZhFw9V",
        "colab": {
          "base_uri": "https://localhost:8080/",
          "height": 122
        },
        "outputId": "f27311d8-b7e5-4386-e0e2-5a5d849dd7d4"
      },
      "source": [
        "multiple_Bernoullis.sample(5)"
      ],
      "execution_count": null,
      "outputs": [
        {
          "output_type": "execute_result",
          "data": {
            "text/plain": [
              "<tf.Tensor: id=629, shape=(5, 3), dtype=int32, numpy=\n",
              "array([[0, 0, 0],\n",
              "       [0, 0, 0],\n",
              "       [0, 1, 1],\n",
              "       [0, 0, 1],\n",
              "       [0, 0, 0]], dtype=int32)>"
            ]
          },
          "metadata": {
            "tags": []
          },
          "execution_count": 33
        }
      ]
    },
    {
      "cell_type": "markdown",
      "metadata": {
        "id": "0ISHl2AMDg9L"
      },
      "source": [
        "The **batch shape** of [3] indicates that `multiple_Bernoullis` is constitued of a **batch of 3 Bernoulli distributions**.\n",
        "\n",
        "The **event shape** of [] indicates that all these 3 distributions are univariate.\n",
        "\n",
        "**How can we create multivariate distributions?** There are ways to create popular distributions directly (see e.g. `tfd.MultivariateNormalFullCovariance`), but here, we will focus on how to create **products of distributions** (aka fully factorised distributions).\n",
        "\n",
        "\n",
        "\n",
        "\n"
      ]
    },
    {
      "cell_type": "markdown",
      "metadata": {
        "id": "CEePGOFvvgD9"
      },
      "source": [
        "# Creating fully factorised distributions\n"
      ]
    },
    {
      "cell_type": "markdown",
      "metadata": {
        "id": "k1RrBrTHE3iA"
      },
      "source": [
        "Let's say we have $K$ univariate distributions $p(x_1),...,p(x_K)$. A way to define a distribution over $K$-dimensional vector $\\mathbf{x} = (x_1,...,x_K)$ is to consider the product\n",
        "$$p ( \\mathbf{x}) = \\prod_{k=1}^K  p(x_k).$$\n",
        "\n",
        "This means that the coordinates of $\\mathbf{x}$ will be **independent**.\n",
        "\n",
        "Fully factorised distributions, because they are convenient ways to deal with high-dimensional data, are everywhere in machine learning! For example in VAEs..."
      ]
    },
    {
      "cell_type": "markdown",
      "metadata": {
        "id": "XI6_s4jDGQRB"
      },
      "source": [
        "Using TFP, it's rather easy to define fully factorised distributions, via the function `tfd.Independent`. The idea is to first define a bunch of distributions (like we saw before), and then combine them."
      ]
    },
    {
      "cell_type": "code",
      "metadata": {
        "id": "PbB9dptlE2zU",
        "colab": {
          "base_uri": "https://localhost:8080/",
          "height": 34
        },
        "outputId": "75b74b05-36ae-4d81-f763-7a39dffb6667"
      },
      "source": [
        "multiple_Bernoullis"
      ],
      "execution_count": null,
      "outputs": [
        {
          "output_type": "execute_result",
          "data": {
            "text/plain": [
              "<tfp.distributions.Bernoulli 'Bernoulli/' batch_shape=[3] event_shape=[] dtype=int32>"
            ]
          },
          "metadata": {
            "tags": []
          },
          "execution_count": 34
        }
      ]
    },
    {
      "cell_type": "code",
      "metadata": {
        "id": "gc-KSIosvdnT",
        "colab": {
          "base_uri": "https://localhost:8080/",
          "height": 34
        },
        "outputId": "55d019e6-2d61-45e0-ec06-1571df81143e"
      },
      "source": [
        "prod_multiple_Bernoullis = tfd.Independent(multiple_Bernoullis, reinterpreted_batch_ndims=1)\n",
        "prod_multiple_Bernoullis"
      ],
      "execution_count": null,
      "outputs": [
        {
          "output_type": "execute_result",
          "data": {
            "text/plain": [
              "<tfp.distributions.Independent 'IndependentBernoulli/' batch_shape=[] event_shape=[3] dtype=int32>"
            ]
          },
          "metadata": {
            "tags": []
          },
          "execution_count": 37
        }
      ]
    },
    {
      "cell_type": "markdown",
      "metadata": {
        "id": "JWaoQ2x7HQZh"
      },
      "source": [
        "Now, the batch shape is [], which indicates that we have a **single distribution**, but the event shape is [3], which indicates that this single distribution is 3-dimensional!"
      ]
    },
    {
      "cell_type": "code",
      "metadata": {
        "id": "ut0m_NY3HA2c",
        "colab": {
          "base_uri": "https://localhost:8080/",
          "height": 122
        },
        "outputId": "702d30f3-ea29-4aaf-d356-eddaad74f84b"
      },
      "source": [
        "prod_multiple_Bernoullis.sample(5)"
      ],
      "execution_count": null,
      "outputs": [
        {
          "output_type": "execute_result",
          "data": {
            "text/plain": [
              "<tf.Tensor: id=664, shape=(5, 3), dtype=int32, numpy=\n",
              "array([[0, 0, 0],\n",
              "       [0, 0, 1],\n",
              "       [0, 1, 1],\n",
              "       [0, 0, 0],\n",
              "       [0, 1, 0]], dtype=int32)>"
            ]
          },
          "metadata": {
            "tags": []
          },
          "execution_count": 38
        }
      ]
    },
    {
      "cell_type": "markdown",
      "metadata": {
        "id": "DJjldhGBHm55"
      },
      "source": [
        "When we sample, we hardly see the difference...\n",
        "\n",
        "But computing the density is quite different!"
      ]
    },
    {
      "cell_type": "code",
      "metadata": {
        "id": "VD8vH5nhHesf",
        "colab": {
          "base_uri": "https://localhost:8080/",
          "height": 34
        },
        "outputId": "ad5bf9b9-f1cd-4d0c-8f2b-5b5f346906c1"
      },
      "source": [
        "multiple_Bernoullis.prob([0,0,1])"
      ],
      "execution_count": null,
      "outputs": [
        {
          "output_type": "execute_result",
          "data": {
            "text/plain": [
              "<tf.Tensor: id=678, shape=(3,), dtype=float32, numpy=array([0.7, 0.5, 0.7], dtype=float32)>"
            ]
          },
          "metadata": {
            "tags": []
          },
          "execution_count": 39
        }
      ]
    },
    {
      "cell_type": "code",
      "metadata": {
        "id": "iBtkP-OsHyDg",
        "colab": {
          "base_uri": "https://localhost:8080/",
          "height": 34
        },
        "outputId": "2011a197-65fa-4fb9-e0f8-0826022d47fe"
      },
      "source": [
        "prod_multiple_Bernoullis.prob([0,0,1])"
      ],
      "execution_count": null,
      "outputs": [
        {
          "output_type": "execute_result",
          "data": {
            "text/plain": [
              "<tf.Tensor: id=694, shape=(), dtype=float32, numpy=0.24500002>"
            ]
          },
          "metadata": {
            "tags": []
          },
          "execution_count": 40
        }
      ]
    },
    {
      "cell_type": "markdown",
      "metadata": {
        "id": "A3DrRDmBH2xn"
      },
      "source": [
        "What's the difference? How are these results related?"
      ]
    },
    {
      "cell_type": "markdown",
      "metadata": {
        "id": "8wwyH1DoH-pS"
      },
      "source": [
        "For more details on this, see [this tutorial](https://github.com/tensorflow/probability/blob/master/tensorflow_probability/examples/jupyter_notebooks/TensorFlow_Distributions_Tutorial.ipynb) (that I used to write mine), or [this one](https://github.com/tensorflow/probability/blob/master/tensorflow_probability/examples/jupyter_notebooks/Understanding_TensorFlow_Distributions_Shapes.ipynb) (that is more about the different shapes)."
      ]
    }
  ]
}